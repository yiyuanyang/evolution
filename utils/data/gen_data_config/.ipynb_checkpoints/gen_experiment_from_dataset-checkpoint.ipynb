{
 "cells": [
  {
   "cell_type": "markdown",
   "metadata": {},
   "source": [
    "## Import Packages"
   ]
  },
  {
   "cell_type": "code",
   "execution_count": 2,
   "metadata": {},
   "outputs": [],
   "source": [
    "import pandas as pd\n",
    "import os"
   ]
  },
  {
   "cell_type": "markdown",
   "metadata": {},
   "source": [
    "## Config"
   ]
  },
  {
   "cell_type": "code",
   "execution_count": 12,
   "metadata": {},
   "outputs": [],
   "source": [
    "LOAD_DIR = \"D:\\\\datasets\"\n",
    "SAVE_DIR = \"..\\\\..\\\\..\\\\config\\\\data_config\"\n",
    "CONFIG_DIR = \"..\\\\..\\\\..\\\\config\\\\exp_config\"\n",
    "TRAINER_DIR = \"..\\\\..\\\\..\\\\trainer\"\n",
    "DRIVER_DIR = \"..\\\\..\\\\..\\\\driver\""
   ]
  },
  {
   "cell_type": "code",
   "execution_count": 13,
   "metadata": {},
   "outputs": [],
   "source": [
    "config = {\n",
    "    \"dataset_name\": \"basic_shapes\",\n",
    "    \"exp_name\": \"first_try\",\n",
    "    \"import_encoding\": False,\n",
    "    \"existing_encoding_path\": \"\",\n",
    "    \"delimiter\": \"_\",\n",
    "    \"index\": 0,\n",
    "    \"split\": [70, 20, 10],\n",
    "    \"shuffle\": True\n",
    "}"
   ]
  },
  {
   "cell_type": "markdown",
   "metadata": {},
   "source": [
    "## Create Directories"
   ]
  },
  {
   "cell_type": "code",
   "execution_count": 17,
   "metadata": {},
   "outputs": [],
   "source": [
    "dataset_load_dir = os.path.join(LOAD_DIR, config[\"dataset_name\"])\n",
    "if not os.path.exists(dataset_load_dir):\n",
    "    os.mkdir(dataset_load_dir)\n",
    "dataset_save_dir = os.path.join(SAVE_DIR, config[\"dataset_name\"])\n",
    "if not os.path.exists(dataset_save_dir):\n",
    "    os.mkdir(dataset_save_dir)\n",
    "exp_save_dir = os.path.join(dataset_save_dir, config[\"exp_name\"])\n",
    "if not os.path.exists(exp_save_dir):\n",
    "    os.mkdir(exp_save_dir)"
   ]
  },
  {
   "cell_type": "markdown",
   "metadata": {},
   "source": [
    "## Directories"
   ]
  },
  {
   "cell_type": "code",
   "execution_count": null,
   "metadata": {},
   "outputs": [],
   "source": [
    "exp_config_dir = os.path.join(CONFIG_DIR, config[\"dataset_name\"])\n",
    "exp_trainer_dir = os.path.join(TRAINER_DIR, config[\"dataset_name\"])\n",
    "exp_driver_dir = os.path.join(DRIVER_DIR, config[\"dataset_name\"])\n",
    "if not os.path.exists(exp_config_dir):\n",
    "    os.mkdir(exp_config_dir)\n",
    "    os.system(\"cp \" + os.path.join(CONFIG_DIR, \"template_config.yml\") + os.path.join(exp_config_dir, config[\"dataset_name\"] + \"_config.yml\"))\n",
    "if not os.path.exists(exp_trainer_dir):\n",
    "    os.mkdir(exp_trainer_dir)\n",
    "if not os.path.exists(exp_driver_dir):\n",
    "    os.mkdir(exp_driver_dir)"
   ]
  },
  {
   "cell_type": "markdown",
   "metadata": {},
   "source": [
    "## Load and Process Images"
   ]
  },
  {
   "cell_type": "code",
   "execution_count": 18,
   "metadata": {},
   "outputs": [],
   "source": [
    "images = os.listdir(dataset_load_dir)\n",
    "images = {os.path.join(dataset_load_dir, image): image.split(config[\"delimiter\"])[config[\"index\"]] for image in images}\n",
    "labels = list(set(images.values()))\n",
    "labels = {label: i for i, label in enumerate(labels)}\n",
    "images = {path: labels[label] for path, label in images.items()}"
   ]
  },
  {
   "cell_type": "markdown",
   "metadata": {},
   "source": [
    "## Generate Encodings"
   ]
  },
  {
   "cell_type": "code",
   "execution_count": 22,
   "metadata": {},
   "outputs": [
    {
     "name": "stdout",
     "output_type": "stream",
     "text": [
      "      class  code\n",
      "0  Triangle     0\n",
      "1      Star     1\n",
      "2   Octagon     2\n",
      "3   Hexagon     3\n",
      "4  Heptagon     4\n",
      "5    Square     5\n",
      "6    Circle     6\n",
      "7  Pentagon     7\n",
      "8   Nonagon     8\n"
     ]
    }
   ],
   "source": [
    "encoding_dir = os.path.join(exp_save_dir, \"label_to_encoding.csv\")\n",
    "if config[\"import_encoding\"]:\n",
    "    label_df = pd.read_csv(encoding_settings[\"existing_encoding_path\"])\n",
    "else:\n",
    "    label_df = pd.DataFrame.from_dict(labels, orient=\"index\")\n",
    "    label_df.to_csv(encoding_dir)\n",
    "    label_df = pd.read_csv(encoding_dir)\n",
    "    label_df.rename(columns={\"Unnamed: 0\": \"class\", \"0\": \"code\"}, inplace=True)\n",
    "label_df.to_csv(encoding_dir, index=False)\n",
    "print(label_df)"
   ]
  },
  {
   "cell_type": "markdown",
   "metadata": {},
   "source": [
    "## Generate DataFrame"
   ]
  },
  {
   "cell_type": "code",
   "execution_count": 23,
   "metadata": {},
   "outputs": [],
   "source": [
    "path_to_label = pd.DataFrame.from_dict(images, orient=\"index\")\n",
    "path_to_label_dir = os.path.join(exp_save_dir, \"path_to_label_ordered.csv\")\n",
    "path_to_label.to_csv(path_to_label_dir)"
   ]
  },
  {
   "cell_type": "markdown",
   "metadata": {},
   "source": [
    "## Generate Ordered Version"
   ]
  },
  {
   "cell_type": "code",
   "execution_count": 24,
   "metadata": {},
   "outputs": [
    {
     "data": {
      "text/html": [
       "<div>\n",
       "<style scoped>\n",
       "    .dataframe tbody tr th:only-of-type {\n",
       "        vertical-align: middle;\n",
       "    }\n",
       "\n",
       "    .dataframe tbody tr th {\n",
       "        vertical-align: top;\n",
       "    }\n",
       "\n",
       "    .dataframe thead th {\n",
       "        text-align: right;\n",
       "    }\n",
       "</style>\n",
       "<table border=\"1\" class=\"dataframe\">\n",
       "  <thead>\n",
       "    <tr style=\"text-align: right;\">\n",
       "      <th></th>\n",
       "      <th>path</th>\n",
       "      <th>label</th>\n",
       "    </tr>\n",
       "  </thead>\n",
       "  <tbody>\n",
       "    <tr>\n",
       "      <th>0</th>\n",
       "      <td>D:\\datasets\\basic_shapes\\Circle_000dfc5c-2a92-...</td>\n",
       "      <td>6</td>\n",
       "    </tr>\n",
       "    <tr>\n",
       "      <th>1</th>\n",
       "      <td>D:\\datasets\\basic_shapes\\Circle_000ed2d8-2a8a-...</td>\n",
       "      <td>6</td>\n",
       "    </tr>\n",
       "    <tr>\n",
       "      <th>2</th>\n",
       "      <td>D:\\datasets\\basic_shapes\\Circle_0013f29e-2a9a-...</td>\n",
       "      <td>6</td>\n",
       "    </tr>\n",
       "    <tr>\n",
       "      <th>3</th>\n",
       "      <td>D:\\datasets\\basic_shapes\\Circle_001d7284-2a85-...</td>\n",
       "      <td>6</td>\n",
       "    </tr>\n",
       "    <tr>\n",
       "      <th>4</th>\n",
       "      <td>D:\\datasets\\basic_shapes\\Circle_001de166-2a89-...</td>\n",
       "      <td>6</td>\n",
       "    </tr>\n",
       "    <tr>\n",
       "      <th>5</th>\n",
       "      <td>D:\\datasets\\basic_shapes\\Circle_001f0442-2a8e-...</td>\n",
       "      <td>6</td>\n",
       "    </tr>\n",
       "    <tr>\n",
       "      <th>6</th>\n",
       "      <td>D:\\datasets\\basic_shapes\\Circle_002bf074-2a95-...</td>\n",
       "      <td>6</td>\n",
       "    </tr>\n",
       "    <tr>\n",
       "      <th>7</th>\n",
       "      <td>D:\\datasets\\basic_shapes\\Circle_0035a8ac-2a91-...</td>\n",
       "      <td>6</td>\n",
       "    </tr>\n",
       "    <tr>\n",
       "      <th>8</th>\n",
       "      <td>D:\\datasets\\basic_shapes\\Circle_003fd9dc-2a99-...</td>\n",
       "      <td>6</td>\n",
       "    </tr>\n",
       "    <tr>\n",
       "      <th>9</th>\n",
       "      <td>D:\\datasets\\basic_shapes\\Circle_004542ae-2a86-...</td>\n",
       "      <td>6</td>\n",
       "    </tr>\n",
       "  </tbody>\n",
       "</table>\n",
       "</div>"
      ],
      "text/plain": [
       "                                                path  label\n",
       "0  D:\\datasets\\basic_shapes\\Circle_000dfc5c-2a92-...      6\n",
       "1  D:\\datasets\\basic_shapes\\Circle_000ed2d8-2a8a-...      6\n",
       "2  D:\\datasets\\basic_shapes\\Circle_0013f29e-2a9a-...      6\n",
       "3  D:\\datasets\\basic_shapes\\Circle_001d7284-2a85-...      6\n",
       "4  D:\\datasets\\basic_shapes\\Circle_001de166-2a89-...      6\n",
       "5  D:\\datasets\\basic_shapes\\Circle_001f0442-2a8e-...      6\n",
       "6  D:\\datasets\\basic_shapes\\Circle_002bf074-2a95-...      6\n",
       "7  D:\\datasets\\basic_shapes\\Circle_0035a8ac-2a91-...      6\n",
       "8  D:\\datasets\\basic_shapes\\Circle_003fd9dc-2a99-...      6\n",
       "9  D:\\datasets\\basic_shapes\\Circle_004542ae-2a86-...      6"
      ]
     },
     "execution_count": 24,
     "metadata": {},
     "output_type": "execute_result"
    }
   ],
   "source": [
    "path_to_label = pd.read_csv(path_to_label_dir)\n",
    "path_to_label.rename(columns={\"Unnamed: 0\": \"path\", \"0\": \"label\"}, inplace=True)\n",
    "path_to_label.to_csv(path_to_label_dir, index = False)\n",
    "path_to_label.head(10)"
   ]
  },
  {
   "cell_type": "code",
   "execution_count": 25,
   "metadata": {},
   "outputs": [
    {
     "data": {
      "text/html": [
       "<div>\n",
       "<style scoped>\n",
       "    .dataframe tbody tr th:only-of-type {\n",
       "        vertical-align: middle;\n",
       "    }\n",
       "\n",
       "    .dataframe tbody tr th {\n",
       "        vertical-align: top;\n",
       "    }\n",
       "\n",
       "    .dataframe thead th {\n",
       "        text-align: right;\n",
       "    }\n",
       "</style>\n",
       "<table border=\"1\" class=\"dataframe\">\n",
       "  <thead>\n",
       "    <tr style=\"text-align: right;\">\n",
       "      <th></th>\n",
       "      <th>path</th>\n",
       "      <th>label</th>\n",
       "    </tr>\n",
       "  </thead>\n",
       "  <tbody>\n",
       "    <tr>\n",
       "      <th>0</th>\n",
       "      <td>D:\\datasets\\basic_shapes\\Heptagon_a5577b6e-2a8...</td>\n",
       "      <td>4</td>\n",
       "    </tr>\n",
       "    <tr>\n",
       "      <th>1</th>\n",
       "      <td>D:\\datasets\\basic_shapes\\Square_0e7774d0-2a97-...</td>\n",
       "      <td>5</td>\n",
       "    </tr>\n",
       "    <tr>\n",
       "      <th>2</th>\n",
       "      <td>D:\\datasets\\basic_shapes\\Heptagon_ee647918-2a8...</td>\n",
       "      <td>4</td>\n",
       "    </tr>\n",
       "    <tr>\n",
       "      <th>3</th>\n",
       "      <td>D:\\datasets\\basic_shapes\\Circle_cb5596fc-2a8a-...</td>\n",
       "      <td>6</td>\n",
       "    </tr>\n",
       "    <tr>\n",
       "      <th>4</th>\n",
       "      <td>D:\\datasets\\basic_shapes\\Star_3f4b6682-2a94-11...</td>\n",
       "      <td>1</td>\n",
       "    </tr>\n",
       "    <tr>\n",
       "      <th>5</th>\n",
       "      <td>D:\\datasets\\basic_shapes\\Heptagon_a01a5640-2a9...</td>\n",
       "      <td>4</td>\n",
       "    </tr>\n",
       "    <tr>\n",
       "      <th>6</th>\n",
       "      <td>D:\\datasets\\basic_shapes\\Circle_140d7f4a-2a95-...</td>\n",
       "      <td>6</td>\n",
       "    </tr>\n",
       "    <tr>\n",
       "      <th>7</th>\n",
       "      <td>D:\\datasets\\basic_shapes\\Hexagon_575963e8-2a97...</td>\n",
       "      <td>3</td>\n",
       "    </tr>\n",
       "    <tr>\n",
       "      <th>8</th>\n",
       "      <td>D:\\datasets\\basic_shapes\\Heptagon_2e05562e-2a9...</td>\n",
       "      <td>4</td>\n",
       "    </tr>\n",
       "    <tr>\n",
       "      <th>9</th>\n",
       "      <td>D:\\datasets\\basic_shapes\\Pentagon_87e33b1c-2a8...</td>\n",
       "      <td>7</td>\n",
       "    </tr>\n",
       "  </tbody>\n",
       "</table>\n",
       "</div>"
      ],
      "text/plain": [
       "                                                path  label\n",
       "0  D:\\datasets\\basic_shapes\\Heptagon_a5577b6e-2a8...      4\n",
       "1  D:\\datasets\\basic_shapes\\Square_0e7774d0-2a97-...      5\n",
       "2  D:\\datasets\\basic_shapes\\Heptagon_ee647918-2a8...      4\n",
       "3  D:\\datasets\\basic_shapes\\Circle_cb5596fc-2a8a-...      6\n",
       "4  D:\\datasets\\basic_shapes\\Star_3f4b6682-2a94-11...      1\n",
       "5  D:\\datasets\\basic_shapes\\Heptagon_a01a5640-2a9...      4\n",
       "6  D:\\datasets\\basic_shapes\\Circle_140d7f4a-2a95-...      6\n",
       "7  D:\\datasets\\basic_shapes\\Hexagon_575963e8-2a97...      3\n",
       "8  D:\\datasets\\basic_shapes\\Heptagon_2e05562e-2a9...      4\n",
       "9  D:\\datasets\\basic_shapes\\Pentagon_87e33b1c-2a8...      7"
      ]
     },
     "execution_count": 25,
     "metadata": {},
     "output_type": "execute_result"
    }
   ],
   "source": [
    "path_to_label = path_to_label.sample(frac=1).reset_index(drop=True)\n",
    "path_to_label.to_csv(os.path.join(exp_save_dir, \"path_to_label_shuffled.csv\"), index=False)\n",
    "path_to_label.head(10)"
   ]
  },
  {
   "cell_type": "code",
   "execution_count": 26,
   "metadata": {},
   "outputs": [
    {
     "name": "stdout",
     "output_type": "stream",
     "text": [
      "Total Number of Images: 90000\n",
      "Train/Eval/Test Split: 63000, 18000, 9000\n",
      "Train DataFrame Size: 63000\n",
      "Eval DataFrame Size: 18000\n",
      "Test DataFrame Size: 9000\n"
     ]
    }
   ],
   "source": [
    "row, _ = path_to_label.shape\n",
    "split = config[\"split\"]\n",
    "train_size = int(row * split[0] / 100)\n",
    "eval_size = int(row * split[1] / 100)\n",
    "test_size = int(row * split[2] / 100) # In practice, we will just take the rest for test\n",
    "print(\"Total Number of Images: {row_num}\".format(row_num=row))\n",
    "print(\"Train/Eval/Test Split: {Train}, {Eval}, {Test}\".format(Train=train_size, Eval=eval_size, Test=test_size))\n",
    "train_df = path_to_label.loc[0:train_size-1,:]\n",
    "eval_df = path_to_label.loc[train_size:train_size+eval_size-1, :]\n",
    "test_df = path_to_label.loc[train_size+eval_size:,:]\n",
    "print(\"Train DataFrame Size: {train_row_size}\".format(train_row_size=train_df.shape[0]))\n",
    "print(\"Eval DataFrame Size: {eval_row_size}\".format(eval_row_size=eval_df.shape[0]))\n",
    "print(\"Test DataFrame Size: {test_row_size}\".format(test_row_size=test_df.shape[0]))"
   ]
  },
  {
   "cell_type": "markdown",
   "metadata": {},
   "source": [
    "## Save Splited DataFrame"
   ]
  },
  {
   "cell_type": "code",
   "execution_count": 27,
   "metadata": {},
   "outputs": [],
   "source": [
    "train_df.to_csv(os.path.join(exp_save_dir, \"train_path_to_labels.csv\"), index=False)\n",
    "eval_df.to_csv(os.path.join(exp_save_dir, \"eval_path_to_labels.csv\"), index=False)\n",
    "test_df.to_csv(os.path.join(exp_save_dir, \"test_path_to_labels.csv\"), index=False)"
   ]
  },
  {
   "cell_type": "code",
   "execution_count": null,
   "metadata": {},
   "outputs": [],
   "source": []
  }
 ],
 "metadata": {
  "kernelspec": {
   "display_name": "computervision",
   "language": "python",
   "name": "computervision"
  },
  "language_info": {
   "codemirror_mode": {
    "name": "ipython",
    "version": 3
   },
   "file_extension": ".py",
   "mimetype": "text/x-python",
   "name": "python",
   "nbconvert_exporter": "python",
   "pygments_lexer": "ipython3",
   "version": "3.8.2"
  }
 },
 "nbformat": 4,
 "nbformat_minor": 4
}
