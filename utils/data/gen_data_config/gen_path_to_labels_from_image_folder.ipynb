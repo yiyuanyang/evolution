{
 "cells": [
  {
   "cell_type": "markdown",
   "metadata": {},
   "source": [
    "## Import Packages"
   ]
  },
  {
   "cell_type": "code",
   "execution_count": 1,
   "metadata": {},
   "outputs": [],
   "source": [
    "import pandas as pd\n",
    "import os"
   ]
  },
  {
   "cell_type": "markdown",
   "metadata": {},
   "source": [
    "## Config"
   ]
  },
  {
   "cell_type": "code",
   "execution_count": 2,
   "metadata": {},
   "outputs": [],
   "source": [
    "config = {\n",
    "    \"image_folder\": \"D:\\datasets\\shape_dataset\\\\shape_descriptor_toy_set_processed_augmented\",\n",
    "    \"save_dir\": \"C:\\\\Users\\\\yangy\\\\Documents\\\\ComputerVision\\\\AIVAS\\\\shape_project\\data\\\\\",\n",
    "    \"import_encoding\": True,\n",
    "    \"encoding_path\": \"C:\\\\Users\\\\yangy\\\\Documents\\\\ComputerVision\\\\AIVAS\\\\shape_project\\\\data\\\\shape_descriptor_toy_set_invert_crop_resize_28\\\\label_to_encoding.csv\",\n",
    "    \"new_folder_name\": \"shape_descriptor_toy_set_processed_augmented\",\n",
    "    \"delimiter\": \"_\",\n",
    "    \"index\": 0\n",
    "}"
   ]
  },
  {
   "cell_type": "markdown",
   "metadata": {},
   "source": [
    "## Create the folder"
   ]
  },
  {
   "cell_type": "code",
   "execution_count": 3,
   "metadata": {},
   "outputs": [],
   "source": [
    "if not os.path.exists(os.path.join(config[\"save_dir\"], config[\"new_folder_name\"])):\n",
    "    os.mkdir(os.path.join(config[\"save_dir\"], config[\"new_folder_name\"]))"
   ]
  },
  {
   "cell_type": "markdown",
   "metadata": {},
   "source": [
    "## Load And Process Images In Folder"
   ]
  },
  {
   "cell_type": "code",
   "execution_count": 4,
   "metadata": {},
   "outputs": [],
   "source": [
    "images = os.listdir(config[\"image_folder\"])\n",
    "images = {os.path.join(config[\"image_folder\"], image): image.split(config[\"delimiter\"])[config[\"index\"]] for image in images}\n",
    "labels = list(set(images.values()))\n",
    "labels = {label: i for i, label in enumerate(labels)}\n",
    "images = {path: labels[label] for path, label in images.items()}"
   ]
  },
  {
   "cell_type": "markdown",
   "metadata": {},
   "source": [
    "## Generate Label To Encoding Dataframe and Save"
   ]
  },
  {
   "cell_type": "code",
   "execution_count": 5,
   "metadata": {},
   "outputs": [
    {
     "name": "stdout",
     "output_type": "stream",
     "text": [
      "                          class  code descriptor\n",
      "0                       a snail     0      swirl\n",
      "1                   a hurricane     1      swirl\n",
      "2                   a whirlpool     2      swirl\n",
      "3           the milkyway galaxy     3      swirl\n",
      "4               a flip calendar     4          v\n",
      "5               a folded wallet     5          v\n",
      "6                an opened book     6          v\n",
      "7        the sideview of laptop     7          v\n",
      "8                    a mountain     8          v\n",
      "9    an eye with iris and pupil     9       conc\n",
      "10  an entire thick crust pizza    10       conc\n",
      "11                   a car tire    11       conc\n",
      "12     ripples from a rain drop    12       conc\n",
      "13      a row of christmas tree    13     zigzag\n",
      "14                  a lightning    14     zigzag\n",
      "15        the stock price graph    15     zigzag\n",
      "16             a mountain range    16     zigzag\n",
      "17                     a pencil    17     pointy\n",
      "18                      a sword    18     pointy\n",
      "19      nail (for construction)    19     pointy\n"
     ]
    }
   ],
   "source": [
    "new_dir = os.path.join(config[\"save_dir\"], config[\"new_folder_name\"], \"label_to_encoding.csv\")\n",
    "if config[\"import_encoding\"]:\n",
    "    label_df = pd.read_csv(config[\"encoding_path\"])\n",
    "else:\n",
    "    label_df = pd.DataFrame.from_dict(labels, orient=\"index\")\n",
    "    label_df.to_csv(new_dir)\n",
    "    label_df = pd.read_csv(new_dir)\n",
    "    label_df.rename(columns={\"Unnamed: 0\": \"class\", \"0\": \"code\"}, inplace=True)\n",
    "label_df.to_csv(new_dir, index=False)\n",
    "print(label_df)"
   ]
  },
  {
   "cell_type": "markdown",
   "metadata": {},
   "source": [
    "## Generate Dataframe"
   ]
  },
  {
   "cell_type": "code",
   "execution_count": 6,
   "metadata": {},
   "outputs": [],
   "source": [
    "path_to_label = pd.DataFrame.from_dict(images, orient=\"index\")\n",
    "new_dir = os.path.join(config[\"save_dir\"], config[\"new_folder_name\"], \"path_to_label_ordered.csv\")\n",
    "path_to_label.to_csv(new_dir)"
   ]
  },
  {
   "cell_type": "markdown",
   "metadata": {},
   "source": [
    "## Generate Ordered Version"
   ]
  },
  {
   "cell_type": "code",
   "execution_count": 7,
   "metadata": {},
   "outputs": [
    {
     "data": {
      "text/html": [
       "<div>\n",
       "<style scoped>\n",
       "    .dataframe tbody tr th:only-of-type {\n",
       "        vertical-align: middle;\n",
       "    }\n",
       "\n",
       "    .dataframe tbody tr th {\n",
       "        vertical-align: top;\n",
       "    }\n",
       "\n",
       "    .dataframe thead th {\n",
       "        text-align: right;\n",
       "    }\n",
       "</style>\n",
       "<table border=\"1\" class=\"dataframe\">\n",
       "  <thead>\n",
       "    <tr style=\"text-align: right;\">\n",
       "      <th></th>\n",
       "      <th>path</th>\n",
       "      <th>label</th>\n",
       "    </tr>\n",
       "  </thead>\n",
       "  <tbody>\n",
       "    <tr>\n",
       "      <th>0</th>\n",
       "      <td>D:\\datasets\\shape_dataset\\shape_descriptor_toy...</td>\n",
       "      <td>18</td>\n",
       "    </tr>\n",
       "    <tr>\n",
       "      <th>1</th>\n",
       "      <td>D:\\datasets\\shape_dataset\\shape_descriptor_toy...</td>\n",
       "      <td>18</td>\n",
       "    </tr>\n",
       "    <tr>\n",
       "      <th>2</th>\n",
       "      <td>D:\\datasets\\shape_dataset\\shape_descriptor_toy...</td>\n",
       "      <td>18</td>\n",
       "    </tr>\n",
       "  </tbody>\n",
       "</table>\n",
       "</div>"
      ],
      "text/plain": [
       "                                                path  label\n",
       "0  D:\\datasets\\shape_dataset\\shape_descriptor_toy...     18\n",
       "1  D:\\datasets\\shape_dataset\\shape_descriptor_toy...     18\n",
       "2  D:\\datasets\\shape_dataset\\shape_descriptor_toy...     18"
      ]
     },
     "execution_count": 7,
     "metadata": {},
     "output_type": "execute_result"
    }
   ],
   "source": [
    "path_to_label = pd.read_csv(new_dir)\n",
    "path_to_label.rename(columns={\"Unnamed: 0\": \"path\", \"0\": \"label\"}, inplace=True)\n",
    "path_to_label.to_csv(new_dir, index = False)\n",
    "path_to_label.head(3)"
   ]
  },
  {
   "cell_type": "markdown",
   "metadata": {},
   "source": [
    "## Generate Shuffled Version"
   ]
  },
  {
   "cell_type": "code",
   "execution_count": 8,
   "metadata": {},
   "outputs": [
    {
     "data": {
      "text/html": [
       "<div>\n",
       "<style scoped>\n",
       "    .dataframe tbody tr th:only-of-type {\n",
       "        vertical-align: middle;\n",
       "    }\n",
       "\n",
       "    .dataframe tbody tr th {\n",
       "        vertical-align: top;\n",
       "    }\n",
       "\n",
       "    .dataframe thead th {\n",
       "        text-align: right;\n",
       "    }\n",
       "</style>\n",
       "<table border=\"1\" class=\"dataframe\">\n",
       "  <thead>\n",
       "    <tr style=\"text-align: right;\">\n",
       "      <th></th>\n",
       "      <th>path</th>\n",
       "      <th>label</th>\n",
       "    </tr>\n",
       "  </thead>\n",
       "  <tbody>\n",
       "    <tr>\n",
       "      <th>140</th>\n",
       "      <td>D:\\datasets\\shape_dataset\\shape_descriptor_toy...</td>\n",
       "      <td>2</td>\n",
       "    </tr>\n",
       "    <tr>\n",
       "      <th>138</th>\n",
       "      <td>D:\\datasets\\shape_dataset\\shape_descriptor_toy...</td>\n",
       "      <td>2</td>\n",
       "    </tr>\n",
       "    <tr>\n",
       "      <th>20</th>\n",
       "      <td>D:\\datasets\\shape_dataset\\shape_descriptor_toy...</td>\n",
       "      <td>11</td>\n",
       "    </tr>\n",
       "  </tbody>\n",
       "</table>\n",
       "</div>"
      ],
      "text/plain": [
       "                                                  path  label\n",
       "140  D:\\datasets\\shape_dataset\\shape_descriptor_toy...      2\n",
       "138  D:\\datasets\\shape_dataset\\shape_descriptor_toy...      2\n",
       "20   D:\\datasets\\shape_dataset\\shape_descriptor_toy...     11"
      ]
     },
     "execution_count": 8,
     "metadata": {},
     "output_type": "execute_result"
    }
   ],
   "source": [
    "path_to_label = path_to_label.sample(frac=1)\n",
    "path_to_label.head(3)"
   ]
  },
  {
   "cell_type": "code",
   "execution_count": 9,
   "metadata": {},
   "outputs": [],
   "source": [
    "path_to_label.to_csv(os.path.join(config[\"save_dir\"], config[\"new_folder_name\"], \"path_to_label_shuffled.csv\"), index=False)"
   ]
  },
  {
   "cell_type": "code",
   "execution_count": null,
   "metadata": {},
   "outputs": [],
   "source": []
  }
 ],
 "metadata": {
  "kernelspec": {
   "display_name": "computervision",
   "language": "python",
   "name": "computervision"
  },
  "language_info": {
   "codemirror_mode": {
    "name": "ipython",
    "version": 3
   },
   "file_extension": ".py",
   "mimetype": "text/x-python",
   "name": "python",
   "nbconvert_exporter": "python",
   "pygments_lexer": "ipython3",
   "version": "3.8.2"
  }
 },
 "nbformat": 4,
 "nbformat_minor": 4
}
